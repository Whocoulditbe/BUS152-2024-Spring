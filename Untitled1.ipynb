{
 "cells": [
  {
   "cell_type": "code",
   "execution_count": 5,
   "id": "134576aa-d612-4015-945d-699e56d8038b",
   "metadata": {
    "tags": []
   },
   "outputs": [
    {
     "name": "stdin",
     "output_type": "stream",
     "text": [
      "age 70\n"
     ]
    },
    {
     "data": {
      "text/plain": [
       "'70'"
      ]
     },
     "execution_count": 5,
     "metadata": {},
     "output_type": "execute_result"
    }
   ],
   "source": [
    "input (\"age\")"
   ]
  },
  {
   "cell_type": "code",
   "execution_count": 17,
   "id": "25d0b04e-474c-46f5-89ae-e6bf4c2ba637",
   "metadata": {
    "tags": []
   },
   "outputs": [
    {
     "ename": "SyntaxError",
     "evalue": "cannot assign to function call here. Maybe you meant '==' instead of '='? (2364801471.py, line 1)",
     "output_type": "error",
     "traceback": [
      "\u001b[1;36m  Cell \u001b[1;32mIn[17], line 1\u001b[1;36m\u001b[0m\n\u001b[1;33m    int(input(\"age\"))=x\u001b[0m\n\u001b[1;37m    ^\u001b[0m\n\u001b[1;31mSyntaxError\u001b[0m\u001b[1;31m:\u001b[0m cannot assign to function call here. Maybe you meant '==' instead of '='?\n"
     ]
    }
   ],
   "source": [
    "int(input(\"age\"))"
   ]
  },
  {
   "cell_type": "code",
   "execution_count": 1,
   "id": "d78859ad-0f94-4c85-9be3-056d19a92858",
   "metadata": {
    "tags": []
   },
   "outputs": [
    {
     "name": "stdin",
     "output_type": "stream",
     "text": [
      " 77\n"
     ]
    },
    {
     "name": "stdout",
     "output_type": "stream",
     "text": [
      "old\n"
     ]
    }
   ],
   "source": [
    "age= input()\n",
    "if int(age)>=70: print('old')"
   ]
  },
  {
   "cell_type": "code",
   "execution_count": 4,
   "id": "4fe23ecd-c15d-4e29-94fb-38742a2710a4",
   "metadata": {
    "tags": []
   },
   "outputs": [
    {
     "name": "stdin",
     "output_type": "stream",
     "text": [
      " 56\n"
     ]
    },
    {
     "name": "stdout",
     "output_type": "stream",
     "text": [
      "middle aged\n"
     ]
    }
   ],
   "source": [
    "age=input()\n",
    "if int(age)>=40 and int(age)<70:print('middle aged')"
   ]
  },
  {
   "cell_type": "code",
   "execution_count": 5,
   "id": "8587b281-2e47-41a2-a8c7-2d75288453ad",
   "metadata": {
    "tags": []
   },
   "outputs": [
    {
     "name": "stdin",
     "output_type": "stream",
     "text": [
      " 27\n"
     ]
    },
    {
     "name": "stdout",
     "output_type": "stream",
     "text": [
      "young adult\n"
     ]
    }
   ],
   "source": [
    "age=input()\n",
    "if int(age)>=22 and int(age)<40:print('young adult')"
   ]
  },
  {
   "cell_type": "code",
   "execution_count": 6,
   "id": "484b3a41-e1a7-4851-8275-240dab8e5744",
   "metadata": {
    "tags": []
   },
   "outputs": [
    {
     "name": "stdin",
     "output_type": "stream",
     "text": [
      " 15\n"
     ]
    },
    {
     "name": "stdout",
     "output_type": "stream",
     "text": [
      "Teen\n"
     ]
    }
   ],
   "source": [
    "age=input()\n",
    "if int(age)>=13 and int(age)<22:print('Teen')"
   ]
  },
  {
   "cell_type": "code",
   "execution_count": 8,
   "id": "8190359c-3675-47f3-b892-8aca8f2b8b21",
   "metadata": {
    "tags": []
   },
   "outputs": [
    {
     "name": "stdin",
     "output_type": "stream",
     "text": [
      " 7\n"
     ]
    },
    {
     "name": "stdout",
     "output_type": "stream",
     "text": [
      "child\n"
     ]
    }
   ],
   "source": [
    "age=input()\n",
    "if int(age)>0 and int(age)<13:print('child')"
   ]
  },
  {
   "cell_type": "code",
   "execution_count": 45,
   "id": "87ef333a-2c50-4019-b8df-18f33f96fe41",
   "metadata": {
    "tags": []
   },
   "outputs": [
    {
     "name": "stdin",
     "output_type": "stream",
     "text": [
      " 13\n"
     ]
    },
    {
     "name": "stdout",
     "output_type": "stream",
     "text": [
      "Teen\n"
     ]
    }
   ],
   "source": [
    "age= input()\n",
    "if int(age)>=70: print('old')\n",
    "if int(age)>=40 and int(age)<70:print('middle aged')\n",
    "if int(age)>=22 and int(age)<40:print('young adult')\n",
    "if int(age)>=13 and int(age)<22:print('Teen')\n",
    "if int(age)>0 and int(age)<13:print('child')"
   ]
  },
  {
   "cell_type": "code",
   "execution_count": 46,
   "id": "d07bed9b-3233-4a58-b404-912c1ff39012",
   "metadata": {
    "tags": []
   },
   "outputs": [
    {
     "name": "stdin",
     "output_type": "stream",
     "text": [
      " 14\n"
     ]
    }
   ],
   "source": [
    "age= input()\n",
    "group=int()\n",
    "if int(age)>=70:int(group)+1\n",
    "if int(age)>=40 and int(age)<70:int(group)+2\n",
    "if int(age)>=22 and int(age)<40:int(group)+3\n",
    "if int(age)>=13 and int(age)<22:int(group)+4\n",
    "if int(age)>0 and int(age)<13:int(group)+5"
   ]
  },
  {
   "cell_type": "code",
   "execution_count": 60,
   "id": "29fdd84f-4539-4bb1-9d00-42fb5da55561",
   "metadata": {
    "tags": []
   },
   "outputs": [
    {
     "name": "stdin",
     "output_type": "stream",
     "text": [
      " 7\n"
     ]
    },
    {
     "name": "stdout",
     "output_type": "stream",
     "text": [
      "old\n"
     ]
    }
   ],
   "source": [
    "x=input()\n",
    "if int(x)>1:y=4\n",
    "if y==4:print('old')"
   ]
  },
  {
   "cell_type": "code",
   "execution_count": 12,
   "id": "ba2bee23-7e06-40b0-a611-d76a37e6d13e",
   "metadata": {
    "tags": []
   },
   "outputs": [
    {
     "name": "stdin",
     "output_type": "stream",
     "text": [
      " 16\n",
      " 1\n",
      " 276\n",
      " 1\n"
     ]
    },
    {
     "name": "stdout",
     "output_type": "stream",
     "text": [
      "you have been aproved for a loan\n"
     ]
    }
   ],
   "source": [
    "age=input()\n",
    "if int(age)>=70:y=1\n",
    "if int(age)>=40 and int(age)<70:y=2\n",
    "if int(age)>=22 and int(age)<40:y=3\n",
    "if int(age)>=13 and int(age)<22:y=4\n",
    "if int(age)>0 and int(age)<13:y=5\n",
    "sex=input()\n",
    "if int(sex)==1:y=(y+1)\n",
    "if int(sex)==2:y=(y-1)\n",
    "income=input()\n",
    "if int(income)>1000: y=(y+5)\n",
    "if int(income)>=500 and int(income)<1000: y=(y+4)\n",
    "if int(income)>=250 and int(income)<500: y=(y+3)\n",
    "if int(income)>=100 and int(income)<250: y=(y+2)\n",
    "if int(income)>=50 and int(income)<100: y=(y+1)\n",
    "if int(income)<50: y=(y-1)\n",
    "br=input()\n",
    "if int(br)==2:y=(y-5)\n",
    "else:y=(y)\n",
    "if y>=8:print(\"you have been aproved for a loan\")\n",
    "else:print(\"you have not been aporved for a loan\")"
   ]
  },
  {
   "cell_type": "code",
   "execution_count": 20,
   "id": "cfb4b91e-61bf-414f-9ded-51d50576194c",
   "metadata": {
    "tags": []
   },
   "outputs": [
    {
     "name": "stdout",
     "output_type": "stream",
     "text": [
      "Please type your age\n"
     ]
    },
    {
     "name": "stdin",
     "output_type": "stream",
     "text": [
      " 56\n"
     ]
    },
    {
     "name": "stdout",
     "output_type": "stream",
     "text": [
      "Please type your gender, 1 for male and 2 for female\n"
     ]
    },
    {
     "name": "stdin",
     "output_type": "stream",
     "text": [
      " 1\n"
     ]
    },
    {
     "name": "stdout",
     "output_type": "stream",
     "text": [
      "Please type your yearly income, in the thousands, for example 70,000 as 70\n"
     ]
    },
    {
     "name": "stdin",
     "output_type": "stream",
     "text": [
      " 23\n"
     ]
    },
    {
     "name": "stdout",
     "output_type": "stream",
     "text": [
      "Please type if you have declared bankrupsy in the last ten years, 1 for yes and 2 for no\n"
     ]
    },
    {
     "name": "stdin",
     "output_type": "stream",
     "text": [
      " 2\n"
     ]
    },
    {
     "name": "stdout",
     "output_type": "stream",
     "text": [
      "Please type how money you desire to borrow\n"
     ]
    },
    {
     "name": "stdin",
     "output_type": "stream",
     "text": [
      " 13\n"
     ]
    },
    {
     "name": "stdout",
     "output_type": "stream",
     "text": [
      "you have been aproved for a loan\n"
     ]
    }
   ],
   "source": [
    "print(\"Please type your age\")\n",
    "age=input()\n",
    "if int(age)>=70:y=1\n",
    "if int(age)>=55 and int(age)<70:y=4\n",
    "if int(age)>=40 and int(age)<55:y=5\n",
    "if int(age)>=25 and int(age)<40:y=3\n",
    "if int(age)<25:y=2\n",
    "print(\"Please type your gender, 1 for male and 2 for female\")\n",
    "sex=input()\n",
    "if int(sex)==1:y=(y+1)\n",
    "if int(sex)==2:y=(y-1)\n",
    "print(\"Please type your yearly income, in the thousands, for example 70,000 as 70\")\n",
    "income=input()\n",
    "if int(income)>1000: y=(y+5)\n",
    "if int(income)>=500 and int(income)<1000: y=(y+4)\n",
    "if int(income)>=250 and int(income)<500: y=(y+3)\n",
    "if int(income)>=100 and int(income)<250: y=(y+2)\n",
    "if int(income)>=50 and int(income)<100: y=(y+1)\n",
    "if int(income)<50: y=(y-1)\n",
    "print(\"Please type if you have declared bankrupsy in the last ten years, 1 for yes and 2 for no\")\n",
    "br=input()\n",
    "if int(br)==1:y=(y-5)\n",
    "else:y=(y)\n",
    "print(\"Please type how money you desire to borrow\")\n",
    "loan= input()\n",
    "if int(loan)>= 1000: y=(y-5)\n",
    "if int(loan)>= 700 and int(loan)< 1000: y=(y-4)\n",
    "if int(loan)>= 500 and int(loan)< 700: y=(y-3)\n",
    "if int(loan)>= 300 and int(loan)< 500: y=(y-2)\n",
    "if int(loan)>= 100 and int(loan)< 300: y=(y-1)\n",
    "if int(loan)>= 75 and int(loan)< 100: y=(y)\n",
    "if int(loan)>= 60 and int(loan)< 75: y=(y+1)\n",
    "if int(loan)>= 45 and int(loan)< 60: y=(y+2)\n",
    "if int(loan)>= 30 and int(loan)< 45: y=(y+3)\n",
    "if int(loan)>= 10 and int(loan)< 30: y=(y+4)\n",
    "if int(loan)< 10: y=(y+5)\n",
    "if y>=8:print(\"you have been aproved for a loan\")\n",
    "else:print(\"you have not been aporved for a loan\")"
   ]
  }
 ],
 "metadata": {
  "kernelspec": {
   "display_name": "Python 3 (ipykernel)",
   "language": "python",
   "name": "python3"
  },
  "language_info": {
   "codemirror_mode": {
    "name": "ipython",
    "version": 3
   },
   "file_extension": ".py",
   "mimetype": "text/x-python",
   "name": "python",
   "nbconvert_exporter": "python",
   "pygments_lexer": "ipython3",
   "version": "3.11.5"
  }
 },
 "nbformat": 4,
 "nbformat_minor": 5
}
